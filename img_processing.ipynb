{
  "cells": [
    {
      "cell_type": "markdown",
      "source": [
        "BAX 423 Final Project - Grocery Shopping Recommendation Algorithm  \n",
        "by Xinyu Liu (Group 11)"
      ],
      "metadata": {
        "id": "qW7UEWZi6g4R"
      },
      "id": "qW7UEWZi6g4R"
    },
    {
      "cell_type": "code",
      "execution_count": null,
      "id": "5823b2e5",
      "metadata": {
        "id": "5823b2e5"
      },
      "outputs": [],
      "source": [
        "#Imports\n",
        "import numpy as np\n",
        "import matplotlib.pyplot as plt\n",
        "\n",
        "import os\n",
        "import glob\n",
        "\n",
        "import string\n",
        "import random\n",
        "\n",
        "import torchvision.transforms as transforms\n",
        "import matplotlib.image as mpimg\n",
        "from PIL import Image, ImageEnhance\n",
        "import cv2"
      ]
    },
    {
      "cell_type": "code",
      "execution_count": null,
      "id": "2e37c02e",
      "metadata": {
        "id": "2e37c02e",
        "outputId": "ee3fd343-835d-4ca1-a9ca-3d584fce4710"
      },
      "outputs": [
        {
          "name": "stdout",
          "output_type": "stream",
          "text": [
            "Image 'ooorraange_3.jpg' flipped and saved as 'ooorraange_3_flipped_1.jpg'.\n"
          ]
        }
      ],
      "source": [
        "import os\n",
        "import cv2\n",
        "\n",
        "def flip_images_in_folder(folder_path):\n",
        "    # Get a list of all files in the folder\n",
        "    file_list = os.listdir(folder_path)\n",
        "\n",
        "    # Loop through each file\n",
        "    for file_name in file_list:\n",
        "        # Check if the file is an image (optional)\n",
        "        if file_name.endswith(('.jpg', '.jpeg', '.png')):\n",
        "            # Construct the file path\n",
        "            file_path = os.path.join(folder_path, file_name)\n",
        "\n",
        "            # Load the image\n",
        "            img = cv2.imread(file_path)\n",
        "\n",
        "            # Flip the image horizontally\n",
        "            flipped_img = cv2.flip(img, 1)\n",
        "\n",
        "            # Extract the image name and extension\n",
        "            image_name, extension = os.path.splitext(file_name)\n",
        "\n",
        "            # Append \"_flipped\" to the image name\n",
        "            new_image_name = image_name + '_flipped'\n",
        "\n",
        "            # Generate a new file name with \"_n\" for distinguishing multiple flipped versions\n",
        "            new_file_name = new_image_name + '_1' + extension\n",
        "\n",
        "            # Save the flipped image with the new file name\n",
        "            cv2.imwrite(os.path.join(folder_path, new_file_name), flipped_img)\n",
        "\n",
        "            print(f\"Image '{file_name}' flipped and saved as '{new_file_name}'.\")\n",
        "\n",
        "# Specify the path to the folder containing the images\n",
        "folder_path = \"/Users/liuxinyu/final proj/img_try\"\n",
        "\n",
        "# Call the function to flip the images in the folder\n",
        "flip_images_in_folder(folder_path)\n"
      ]
    },
    {
      "cell_type": "code",
      "execution_count": null,
      "id": "5b5151f0",
      "metadata": {
        "id": "5b5151f0",
        "outputId": "a576cf4f-8226-48cd-faed-4cd0c812276b"
      },
      "outputs": [
        {
          "name": "stdout",
          "output_type": "stream",
          "text": [
            "Image 'ooorraange_3.jpg' brightness adjusted and saved as 'ooorraange_3_brightened_1.jpg'.\n",
            "Image 'ooorraange_3_flipped_1.jpg' brightness adjusted and saved as 'ooorraange_3_flipped_1_brightened_1.jpg'.\n"
          ]
        }
      ],
      "source": [
        "import os\n",
        "import cv2\n",
        "\n",
        "def adjust_brightness_in_folder(folder_path, brightness_factor):\n",
        "    # Get a list of all files in the folder\n",
        "    file_list = os.listdir(folder_path)\n",
        "\n",
        "    # Loop through each file\n",
        "    for file_name in file_list:\n",
        "        # Check if the file is an image (optional)\n",
        "        if file_name.endswith(('.jpg', '.jpeg', '.png')):\n",
        "            # Construct the file path\n",
        "            file_path = os.path.join(folder_path, file_name)\n",
        "\n",
        "            # Load the image\n",
        "            img = cv2.imread(file_path)\n",
        "\n",
        "            # Adjust the brightness of the image\n",
        "            adjusted_img = cv2.convertScaleAbs(img, alpha=brightness_factor)\n",
        "\n",
        "            # Extract the image name and extension\n",
        "            image_name, extension = os.path.splitext(file_name)\n",
        "\n",
        "            # Append \"_brightened\" to the image name\n",
        "            new_image_name = image_name + '_brightened'\n",
        "\n",
        "            # Generate a new file name with \"_n\" for distinguishing multiple brightness adjustments\n",
        "            new_file_name = new_image_name + '_1' + extension\n",
        "\n",
        "            # Save the adjusted image with the new file name\n",
        "            cv2.imwrite(os.path.join(folder_path, new_file_name), adjusted_img)\n",
        "\n",
        "            print(f\"Image '{file_name}' brightness adjusted and saved as '{new_file_name}'.\")\n",
        "\n",
        "# Specify the path to the folder containing the images\n",
        "# folder_path = \"path/to/images/folder\"\n",
        "\n",
        "# Specify the brightness adjustment factor (e.g., 0.5 for decreasing brightness, 1.5 for increasing brightness)\n",
        "brightness_factor = 0.5\n",
        "\n",
        "# Call the function to adjust the brightness of the images in the folder\n",
        "adjust_brightness_in_folder(folder_path, brightness_factor)\n"
      ]
    },
    {
      "cell_type": "code",
      "execution_count": null,
      "id": "dae051aa",
      "metadata": {
        "id": "dae051aa",
        "outputId": "c0747b16-5b5e-4cbf-f265-a6a88730ebeb"
      },
      "outputs": [
        {
          "name": "stdout",
          "output_type": "stream",
          "text": [
            "Noisy version of 'ooorraange_3_brightened_1_noisy_1_deleted_noisy_1.jpg' saved as 'ooorraange_3_brightened_1_noisy_1_deleted_noisy_1_noisy_1.jpg'.\n",
            "Noisy version of 'ooorraange_3_flipped_1_brightened_1_noisy_1_deleted_noisy_1.jpg' saved as 'ooorraange_3_flipped_1_brightened_1_noisy_1_deleted_noisy_1_noisy_1.jpg'.\n",
            "Noisy version of 'ooorraange_3_flipped_1_noisy_1_deleted_noisy_1.jpg' saved as 'ooorraange_3_flipped_1_noisy_1_deleted_noisy_1_noisy_1.jpg'.\n",
            "Noisy version of 'ooorraange_3_flipped_1_noisy_1.jpg' saved as 'ooorraange_3_flipped_1_noisy_1_noisy_1.jpg'.\n",
            "Noisy version of 'ooorraange_3_noisy_1.jpg' saved as 'ooorraange_3_noisy_1_noisy_1.jpg'.\n",
            "Noisy version of 'ooorraange_3_flipped_1_brightened_1_noisy_1.jpg' saved as 'ooorraange_3_flipped_1_brightened_1_noisy_1_noisy_1.jpg'.\n",
            "Noisy version of 'ooorraange_3_deleted.jpg' saved as 'ooorraange_3_deleted_noisy_1.jpg'.\n",
            "Noisy version of 'ooorraange_3_flipped_1_brightened_1_deleted.jpg' saved as 'ooorraange_3_flipped_1_brightened_1_deleted_noisy_1.jpg'.\n",
            "Noisy version of 'ooorraange_3_flipped_1_deleted.jpg' saved as 'ooorraange_3_flipped_1_deleted_noisy_1.jpg'.\n",
            "Noisy version of 'ooorraange_3_noisy_1_deleted_noisy_1.jpg' saved as 'ooorraange_3_noisy_1_deleted_noisy_1_noisy_1.jpg'.\n",
            "Noisy version of 'ooorraange_3_flipped_1_brightened_1_deleted_noisy_1.jpg' saved as 'ooorraange_3_flipped_1_brightened_1_deleted_noisy_1_noisy_1.jpg'.\n",
            "Noisy version of 'ooorraange_3_flipped_1_deleted_noisy_1.jpg' saved as 'ooorraange_3_flipped_1_deleted_noisy_1_noisy_1.jpg'.\n",
            "Noisy version of 'ooorraange_3_brightened_1_deleted_noisy_1.jpg' saved as 'ooorraange_3_brightened_1_deleted_noisy_1_noisy_1.jpg'.\n",
            "Noisy version of 'ooorraange_3_brightened_1_noisy_1_deleted.jpg' saved as 'ooorraange_3_brightened_1_noisy_1_deleted_noisy_1.jpg'.\n",
            "Noisy version of 'ooorraange_3_flipped_1_noisy_1_deleted.jpg' saved as 'ooorraange_3_flipped_1_noisy_1_deleted_noisy_1.jpg'.\n",
            "Noisy version of 'ooorraange_3_flipped_1_brightened_1_noisy_1_deleted.jpg' saved as 'ooorraange_3_flipped_1_brightened_1_noisy_1_deleted_noisy_1.jpg'.\n",
            "Noisy version of 'ooorraange_3_flipped_1_noisy_1_noisy_1.jpg' saved as 'ooorraange_3_flipped_1_noisy_1_noisy_1_noisy_1.jpg'.\n",
            "Noisy version of 'ooorraange_3_brightened_1_noisy_1_noisy_1.jpg' saved as 'ooorraange_3_brightened_1_noisy_1_noisy_1_noisy_1.jpg'.\n",
            "Noisy version of 'ooorraange_3_flipped_1_brightened_1_noisy_1_noisy_1.jpg' saved as 'ooorraange_3_flipped_1_brightened_1_noisy_1_noisy_1_noisy_1.jpg'.\n",
            "Noisy version of 'ooorraange_3_deleted_noisy_1.jpg' saved as 'ooorraange_3_deleted_noisy_1_noisy_1.jpg'.\n",
            "Noisy version of 'ooorraange_3_noisy_1_deleted.jpg' saved as 'ooorraange_3_noisy_1_deleted_noisy_1.jpg'.\n",
            "Noisy version of 'ooorraange_3.jpg' saved as 'ooorraange_3_noisy_1.jpg'.\n",
            "Noisy version of 'ooorraange_3_noisy_1_noisy_1.jpg' saved as 'ooorraange_3_noisy_1_noisy_1_noisy_1.jpg'.\n",
            "Noisy version of 'ooorraange_3_brightened_1.jpg' saved as 'ooorraange_3_brightened_1_noisy_1.jpg'.\n",
            "Noisy version of 'ooorraange_3_flipped_1_brightened_1.jpg' saved as 'ooorraange_3_flipped_1_brightened_1_noisy_1.jpg'.\n",
            "Noisy version of 'ooorraange_3_flipped_1.jpg' saved as 'ooorraange_3_flipped_1_noisy_1.jpg'.\n",
            "Noisy version of 'ooorraange_3_brightened_1_deleted.jpg' saved as 'ooorraange_3_brightened_1_deleted_noisy_1.jpg'.\n",
            "Noisy version of 'ooorraange_3_brightened_1_noisy_1.jpg' saved as 'ooorraange_3_brightened_1_noisy_1_noisy_1.jpg'.\n"
          ]
        }
      ],
      "source": [
        "import os\n",
        "import cv2\n",
        "import numpy as np\n",
        "\n",
        "def add_gaussian_noise_in_folder(folder_path, variance):\n",
        "    # Get a list of all files in the folder\n",
        "    file_list = os.listdir(folder_path)\n",
        "\n",
        "    # Loop through each file\n",
        "    for file_name in file_list:\n",
        "        # Check if the file is an image (optional)\n",
        "        if file_name.endswith(('.jpg', '.jpeg', '.png')):\n",
        "            # Construct the file path\n",
        "            file_path = os.path.join(folder_path, file_name)\n",
        "\n",
        "            # Load the image\n",
        "            img = cv2.imread(file_path)\n",
        "\n",
        "            # Add Gaussian noise to the image\n",
        "            noise = np.random.normal(0, variance, size=img.shape).astype(\"int16\")\n",
        "            noisy_img = np.clip(img + noise, 0, 255).astype(\"uint8\")\n",
        "\n",
        "            # Extract the image name and extension\n",
        "            image_name, extension = os.path.splitext(file_name)\n",
        "\n",
        "            # Append \"_noisy\" to the image name\n",
        "\n",
        "            new_image_name = image_name + '_noisy'\n",
        "\n",
        "            # Generate a new file name with \"_n\" for distinguishing multiple noisy versions\n",
        "            new_file_name = new_image_name + '_1' + extension\n",
        "\n",
        "            # Save the noisy image with the new file name\n",
        "            cv2.imwrite(os.path.join(folder_path, new_file_name), noisy_img)\n",
        "\n",
        "            print(f\"Noisy version of '{file_name}' saved as '{new_file_name}'.\")\n",
        "\n",
        "# Specify the path to the folder containing the images\n",
        "# folder_path = \"path/to/images/folder\"\n",
        "\n",
        "# Specify the variance of the Gaussian noise\n",
        "variance = 5\n",
        "\n",
        "# Call the function to add Gaussian noise to the images in the folder\n",
        "add_gaussian_noise_in_folder(folder_path, variance)\n"
      ]
    },
    {
      "cell_type": "code",
      "execution_count": null,
      "id": "569d3be5",
      "metadata": {
        "id": "569d3be5",
        "outputId": "8a864676-12fd-410e-ef59-ef30cf974694"
      },
      "outputs": [
        {
          "name": "stdout",
          "output_type": "stream",
          "text": [
            "Square deleted from image 'ooorraange_3_flipped_1_noisy_1.jpg' and saved as 'ooorraange_3_flipped_1_noisy_1_deleted.jpg'.\n",
            "Square deleted from image 'ooorraange_3_noisy_1.jpg' and saved as 'ooorraange_3_noisy_1_deleted.jpg'.\n",
            "Square deleted from image 'ooorraange_3_flipped_1_brightened_1_noisy_1.jpg' and saved as 'ooorraange_3_flipped_1_brightened_1_noisy_1_deleted.jpg'.\n",
            "Square deleted from image 'ooorraange_3.jpg' and saved as 'ooorraange_3_deleted.jpg'.\n",
            "Square deleted from image 'ooorraange_3_brightened_1.jpg' and saved as 'ooorraange_3_brightened_1_deleted.jpg'.\n",
            "Square deleted from image 'ooorraange_3_flipped_1_brightened_1.jpg' and saved as 'ooorraange_3_flipped_1_brightened_1_deleted.jpg'.\n",
            "Square deleted from image 'ooorraange_3_flipped_1.jpg' and saved as 'ooorraange_3_flipped_1_deleted.jpg'.\n",
            "Square deleted from image 'ooorraange_3_brightened_1_noisy_1.jpg' and saved as 'ooorraange_3_brightened_1_noisy_1_deleted.jpg'.\n"
          ]
        }
      ],
      "source": [
        "import random\n",
        "import numpy as np\n",
        "from PIL import Image\n",
        "import os\n",
        "\n",
        "def delete_square_in_folder(folder_path, pixels=20):\n",
        "    \"\"\"Delete random square from images in a folder\"\"\"\n",
        "\n",
        "    # Get a list of image files in the folder\n",
        "    image_files = os.listdir(folder_path)\n",
        "\n",
        "    for file_name in image_files:\n",
        "        # Skip non-image files\n",
        "        if not file_name.lower().endswith(('.jpg', '.jpeg', '.png', '.gif')):\n",
        "            continue\n",
        "\n",
        "        # Load the image\n",
        "        img_path = os.path.join(folder_path, file_name)\n",
        "        try:\n",
        "            img = Image.open(img_path)\n",
        "        except (OSError, PIL.UnidentifiedImageError):\n",
        "            print(f\"Error opening image: {img_path}\")\n",
        "            continue\n",
        "\n",
        "        # Convert image to RGB mode if it's RGBA\n",
        "        if img.mode == 'RGBA':\n",
        "            img = img.convert('RGB')\n",
        "\n",
        "        # Delete a random square from the image\n",
        "        modified_img = delete_square(img, pixels)\n",
        "\n",
        "        # Generate the new file name with suffix '_deleted'\n",
        "        new_file_name = os.path.splitext(file_name)[0] + '_deleted' + os.path.splitext(file_name)[1]\n",
        "\n",
        "        # Save the modified image with the new file name\n",
        "        modified_img.save(os.path.join(folder_path, new_file_name))\n",
        "\n",
        "        print(f\"Square deleted from image '{file_name}' and saved as '{new_file_name}'.\")\n",
        "\n",
        "def delete_square(img, pixels=20):\n",
        "    \"\"\"Delete random square from image\"\"\"\n",
        "\n",
        "    img = np.array(img)\n",
        "    h, w = img.shape[:2]  # Get image dimensions\n",
        "\n",
        "    # Random starting pixel\n",
        "    rh = random.randint(0, h)\n",
        "    rw = random.randint(0, w)\n",
        "\n",
        "    sub = round(pixels / 2)\n",
        "    add = pixels - sub\n",
        "\n",
        "    # Boundaries for square\n",
        "    hmin = max(rh - sub, 0)\n",
        "    hmax = min(rh + add, h - 1)\n",
        "    vmin = max(rw - sub, 0)\n",
        "    vmax = min(rw + add, w - 1)\n",
        "\n",
        "    # Turn pixels within range black\n",
        "    img[hmin:hmax, vmin:vmax] = 0\n",
        "\n",
        "    img = Image.fromarray(img)\n",
        "    return img\n",
        "\n",
        "\n",
        "\n",
        "# folder_path = \"/Users/liuxinyu/final proj/img/carrot\"\n",
        "\n",
        "\n",
        "# Delete a random square from images in the folder\n",
        "delete_square_in_folder(folder_path, pixels=20)\n"
      ]
    },
    {
      "cell_type": "code",
      "execution_count": null,
      "id": "081d9e53",
      "metadata": {
        "id": "081d9e53"
      },
      "outputs": [],
      "source": []
    }
  ],
  "metadata": {
    "kernelspec": {
      "display_name": "Python 3 (ipykernel)",
      "language": "python",
      "name": "python3"
    },
    "language_info": {
      "codemirror_mode": {
        "name": "ipython",
        "version": 3
      },
      "file_extension": ".py",
      "mimetype": "text/x-python",
      "name": "python",
      "nbconvert_exporter": "python",
      "pygments_lexer": "ipython3",
      "version": "3.10.8"
    },
    "toc": {
      "base_numbering": 1,
      "nav_menu": {},
      "number_sections": true,
      "sideBar": true,
      "skip_h1_title": false,
      "title_cell": "Table of Contents",
      "title_sidebar": "Contents",
      "toc_cell": false,
      "toc_position": {},
      "toc_section_display": true,
      "toc_window_display": false
    },
    "colab": {
      "provenance": []
    }
  },
  "nbformat": 4,
  "nbformat_minor": 5
}